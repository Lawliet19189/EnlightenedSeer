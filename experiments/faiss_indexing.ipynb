{
 "cells": [
  {
   "cell_type": "code",
   "execution_count": 1,
   "id": "otherwise-recycling",
   "metadata": {
    "tags": []
   },
   "outputs": [
    {
     "name": "stderr",
     "output_type": "stream",
     "text": [
      "2021-07-18 00:19:46.119696: I tensorflow/stream_executor/platform/default/dso_loader.cc:53] Successfully opened dynamic library libcudart.so.11.0\n",
      "2021-07-18 00:19:57.185989: I tensorflow/stream_executor/platform/default/dso_loader.cc:53] Successfully opened dynamic library libcuda.so.1\n",
      "2021-07-18 00:19:57.432608: I tensorflow/stream_executor/cuda/cuda_gpu_executor.cc:937] successful NUMA node read from SysFS had negative value (-1), but there must be at least one NUMA node, so returning NUMA node zero\n",
      "2021-07-18 00:19:57.434540: I tensorflow/core/common_runtime/gpu/gpu_device.cc:1733] Found device 0 with properties: \n",
      "pciBusID: 0000:01:00.0 name: GeForce GTX 1080 Ti computeCapability: 6.1\n",
      "coreClock: 1.62GHz coreCount: 28 deviceMemorySize: 10.91GiB deviceMemoryBandwidth: 451.17GiB/s\n",
      "2021-07-18 00:19:57.434805: I tensorflow/stream_executor/cuda/cuda_gpu_executor.cc:937] successful NUMA node read from SysFS had negative value (-1), but there must be at least one NUMA node, so returning NUMA node zero\n",
      "2021-07-18 00:19:57.436625: I tensorflow/core/common_runtime/gpu/gpu_device.cc:1733] Found device 1 with properties: \n",
      "pciBusID: 0000:02:00.0 name: GeForce GTX 1080 Ti computeCapability: 6.1\n",
      "coreClock: 1.62GHz coreCount: 28 deviceMemorySize: 10.92GiB deviceMemoryBandwidth: 451.17GiB/s\n",
      "2021-07-18 00:19:57.436694: I tensorflow/stream_executor/platform/default/dso_loader.cc:53] Successfully opened dynamic library libcudart.so.11.0\n",
      "2021-07-18 00:19:57.615378: I tensorflow/stream_executor/platform/default/dso_loader.cc:53] Successfully opened dynamic library libcublas.so.11\n",
      "2021-07-18 00:19:57.615553: I tensorflow/stream_executor/platform/default/dso_loader.cc:53] Successfully opened dynamic library libcublasLt.so.11\n",
      "2021-07-18 00:19:57.755249: I tensorflow/stream_executor/platform/default/dso_loader.cc:53] Successfully opened dynamic library libcufft.so.10\n",
      "2021-07-18 00:19:57.793243: I tensorflow/stream_executor/platform/default/dso_loader.cc:53] Successfully opened dynamic library libcurand.so.10\n",
      "2021-07-18 00:19:58.053452: I tensorflow/stream_executor/platform/default/dso_loader.cc:53] Successfully opened dynamic library libcusolver.so.11\n",
      "2021-07-18 00:19:58.125447: I tensorflow/stream_executor/platform/default/dso_loader.cc:53] Successfully opened dynamic library libcusparse.so.11\n",
      "2021-07-18 00:19:58.143732: I tensorflow/stream_executor/platform/default/dso_loader.cc:53] Successfully opened dynamic library libcudnn.so.8\n",
      "2021-07-18 00:19:58.144067: I tensorflow/stream_executor/cuda/cuda_gpu_executor.cc:937] successful NUMA node read from SysFS had negative value (-1), but there must be at least one NUMA node, so returning NUMA node zero\n",
      "2021-07-18 00:19:58.146035: I tensorflow/stream_executor/cuda/cuda_gpu_executor.cc:937] successful NUMA node read from SysFS had negative value (-1), but there must be at least one NUMA node, so returning NUMA node zero\n",
      "2021-07-18 00:19:58.148155: I tensorflow/stream_executor/cuda/cuda_gpu_executor.cc:937] successful NUMA node read from SysFS had negative value (-1), but there must be at least one NUMA node, so returning NUMA node zero\n",
      "2021-07-18 00:19:58.163201: I tensorflow/stream_executor/cuda/cuda_gpu_executor.cc:937] successful NUMA node read from SysFS had negative value (-1), but there must be at least one NUMA node, so returning NUMA node zero\n",
      "2021-07-18 00:19:58.165178: I tensorflow/core/common_runtime/gpu/gpu_device.cc:1871] Adding visible gpu devices: 0, 1\n",
      "2021-07-18 00:21:07.513655: I tensorflow/core/platform/cpu_feature_guard.cc:142] This TensorFlow binary is optimized with oneAPI Deep Neural Network Library (oneDNN) to use the following CPU instructions in performance-critical operations:  AVX2 FMA\n",
      "To enable them in other operations, rebuild TensorFlow with the appropriate compiler flags.\n",
      "2021-07-18 00:21:07.733008: I tensorflow/stream_executor/cuda/cuda_gpu_executor.cc:937] successful NUMA node read from SysFS had negative value (-1), but there must be at least one NUMA node, so returning NUMA node zero\n",
      "2021-07-18 00:21:07.733356: I tensorflow/core/common_runtime/gpu/gpu_device.cc:1733] Found device 0 with properties: \n",
      "pciBusID: 0000:01:00.0 name: GeForce GTX 1080 Ti computeCapability: 6.1\n",
      "coreClock: 1.62GHz coreCount: 28 deviceMemorySize: 10.91GiB deviceMemoryBandwidth: 451.17GiB/s\n",
      "2021-07-18 00:21:07.733418: I tensorflow/stream_executor/cuda/cuda_gpu_executor.cc:937] successful NUMA node read from SysFS had negative value (-1), but there must be at least one NUMA node, so returning NUMA node zero\n",
      "2021-07-18 00:21:07.733736: I tensorflow/core/common_runtime/gpu/gpu_device.cc:1733] Found device 1 with properties: \n",
      "pciBusID: 0000:02:00.0 name: GeForce GTX 1080 Ti computeCapability: 6.1\n",
      "coreClock: 1.62GHz coreCount: 28 deviceMemorySize: 10.92GiB deviceMemoryBandwidth: 451.17GiB/s\n",
      "2021-07-18 00:21:07.733779: I tensorflow/stream_executor/cuda/cuda_gpu_executor.cc:937] successful NUMA node read from SysFS had negative value (-1), but there must be at least one NUMA node, so returning NUMA node zero\n",
      "2021-07-18 00:21:07.734116: I tensorflow/stream_executor/cuda/cuda_gpu_executor.cc:937] successful NUMA node read from SysFS had negative value (-1), but there must be at least one NUMA node, so returning NUMA node zero\n",
      "2021-07-18 00:21:07.734458: I tensorflow/stream_executor/cuda/cuda_gpu_executor.cc:937] successful NUMA node read from SysFS had negative value (-1), but there must be at least one NUMA node, so returning NUMA node zero\n",
      "2021-07-18 00:21:07.734827: I tensorflow/stream_executor/cuda/cuda_gpu_executor.cc:937] successful NUMA node read from SysFS had negative value (-1), but there must be at least one NUMA node, so returning NUMA node zero\n",
      "2021-07-18 00:21:07.735141: I tensorflow/core/common_runtime/gpu/gpu_device.cc:1871] Adding visible gpu devices: 0, 1\n",
      "2021-07-18 00:21:07.751698: I tensorflow/stream_executor/platform/default/dso_loader.cc:53] Successfully opened dynamic library libcudart.so.11.0\n",
      "2021-07-18 00:21:11.782327: I tensorflow/core/common_runtime/gpu/gpu_device.cc:1258] Device interconnect StreamExecutor with strength 1 edge matrix:\n",
      "2021-07-18 00:21:11.782349: I tensorflow/core/common_runtime/gpu/gpu_device.cc:1264]      0 1 \n",
      "2021-07-18 00:21:11.782355: I tensorflow/core/common_runtime/gpu/gpu_device.cc:1277] 0:   N Y \n",
      "2021-07-18 00:21:11.782359: I tensorflow/core/common_runtime/gpu/gpu_device.cc:1277] 1:   Y N \n",
      "2021-07-18 00:21:11.782503: I tensorflow/stream_executor/cuda/cuda_gpu_executor.cc:937] successful NUMA node read from SysFS had negative value (-1), but there must be at least one NUMA node, so returning NUMA node zero\n",
      "2021-07-18 00:21:11.782883: I tensorflow/stream_executor/cuda/cuda_gpu_executor.cc:937] successful NUMA node read from SysFS had negative value (-1), but there must be at least one NUMA node, so returning NUMA node zero\n",
      "2021-07-18 00:21:11.783233: I tensorflow/stream_executor/cuda/cuda_gpu_executor.cc:937] successful NUMA node read from SysFS had negative value (-1), but there must be at least one NUMA node, so returning NUMA node zero\n",
      "2021-07-18 00:21:11.783579: I tensorflow/stream_executor/cuda/cuda_gpu_executor.cc:937] successful NUMA node read from SysFS had negative value (-1), but there must be at least one NUMA node, so returning NUMA node zero\n",
      "2021-07-18 00:21:11.783918: I tensorflow/stream_executor/cuda/cuda_gpu_executor.cc:937] successful NUMA node read from SysFS had negative value (-1), but there must be at least one NUMA node, so returning NUMA node zero\n",
      "2021-07-18 00:21:11.784245: I tensorflow/core/common_runtime/gpu/gpu_device.cc:1418] Created TensorFlow device (/job:localhost/replica:0/task:0/device:GPU:0 with 2048 MB memory) -> physical GPU (device: 0, name: GeForce GTX 1080 Ti, pci bus id: 0000:01:00.0, compute capability: 6.1)\n",
      "2021-07-18 00:21:11.837799: I tensorflow/stream_executor/cuda/cuda_gpu_executor.cc:937] successful NUMA node read from SysFS had negative value (-1), but there must be at least one NUMA node, so returning NUMA node zero\n",
      "2021-07-18 00:21:11.839429: I tensorflow/core/common_runtime/gpu/gpu_device.cc:1418] Created TensorFlow device (/job:localhost/replica:0/task:0/device:GPU:1 with 10412 MB memory) -> physical GPU (device: 1, name: GeForce GTX 1080 Ti, pci bus id: 0000:02:00.0, compute capability: 6.1)\n",
      "2021-07-18 00:21:17.305961: I tensorflow/compiler/mlir/mlir_graph_optimization_pass.cc:176] None of the MLIR Optimization Passes are enabled (registered 2)\n",
      "2021-07-18 00:21:17.537349: I tensorflow/core/platform/profile_utils/cpu_utils.cc:114] CPU Frequency: 3199980000 Hz\n",
      "2021-07-18 00:21:21.972140: I tensorflow/stream_executor/platform/default/dso_loader.cc:53] Successfully opened dynamic library libcublas.so.11\n",
      "2021-07-18 00:21:25.156836: I tensorflow/stream_executor/platform/default/dso_loader.cc:53] Successfully opened dynamic library libcublasLt.so.11\n"
     ]
    },
    {
     "data": {
      "text/plain": [
       "(1, 512)"
      ]
     },
     "execution_count": 1,
     "metadata": {},
     "output_type": "execute_result"
    }
   ],
   "source": [
    "import tensorflow as tf\n",
    "import tensorflow_hub as hub\n",
    "import numpy as np\n",
    "import tensorflow_text\n",
    "\n",
    "import tensorflow as tf\n",
    "gpus = tf.config.experimental.list_physical_devices('GPU')\n",
    "\n",
    "tf.config.experimental.set_virtual_device_configuration(gpus[0], [tf.config.experimental.VirtualDeviceConfiguration(memory_limit=2048)])\n",
    "\n",
    "\n",
    "embed = hub.load(\"https://tfhub.dev/google/universal-sentence-encoder-large/5\")\n",
    "\n",
    "def get_embedding(text):\n",
    "    if isinstance(text, str):\n",
    "        return embed([text]).numpy()\n",
    "    return embed(text).numpy()\n",
    "\n",
    "get_embedding(\"Hello World\").shape"
   ]
  },
  {
   "cell_type": "code",
   "execution_count": 19,
   "id": "portuguese-poster",
   "metadata": {},
   "outputs": [],
   "source": [
    "qg_list = ['how do you find the degree of a polygon',\n",
    " 'how do you find the quotient of a signed integer',\n",
    " 'how do you find the angle of transversal',\n",
    " 'how do you find the remaining oxygen pressure in an e-cylinder',\n",
    " 'how do you find the centimeters on an abbreviation ruler',\n",
    " 'how do you find the degree of the inside of a polygon',\n",
    " 'how do you find the degrees of an octagon',\n",
    " 'how do you find the ecu in my car',\n",
    " 'how do you find the area of a trapezium',\n",
    " 'how do you find the right size of a step',\n",
    " 'how do you find the latitude and longtitude distance',\n",
    " 'how do you find the area of a shaded region',\n",
    " 'how do you find the owner of the phone number',\n",
    " 'how do you find the average price of a share of stock',\n",
    " 'how do you find the origin of the name soleil',\n",
    " 'how do you find the valve cover bolts',\n",
    " 'how do you find the skew angle for expressvu',\n",
    " 'how do you find the best learning style',\n",
    " 'how do you find the length of your period',\n",
    " 'how do you find the endpoint of a titration',\n",
    " 'how do you find the number of shares in a company',\n",
    " 'how do you find the benefits of essential oils',\n",
    " 'how do you find the monthly temp mean',\n",
    " 'how do you find the distance a person can walk in a day',\n",
    " 'how do you find the distance from upland ca to a location',\n",
    " 'how do you find the degrees of each angle in a polygon',\n",
    " 'how do you find the ip address of a dell printer',\n",
    " 'how do you find the mass and the molar mass of a gas in a lab',\n",
    " 'how do you find the radio code for ford fiesta',\n",
    " 'how do you find the measurements for fire pit glass',\n",
    " 'how do you find the k b value',\n",
    " 'how do you find the average speed for someone?',\n",
    " 'how do you find the value of x in a transversal',\n",
    " 'how do you find the old google bookmarks manager',\n",
    " 'how do you find the distance from 2 points in the usa',\n",
    " 'how do you find the molar ph of a base',\n",
    " 'how do you find the ordinates of a composite trigonometric curve',\n",
    " 'how do you find the median in statistics',\n",
    " 'how do you find the slope in a graph',\n",
    " 'how do you find the voltage of a ct wave',\n",
    " 'how do you find the radius of your star',\n",
    " 'how do you find the correct size of pump for your pool',\n",
    " 'how do you find the median of a p values',\n",
    " 'how do you find the flow rate',\n",
    " 'how do you find the angle if you are a unit circle',\n",
    " 'how do you find the light ring in the wind waker game',\n",
    " 'how do you find the wattage of a voltage',\n",
    " 'how do you find the number for your irs pin',\n",
    " 'how do you find the vin number',\n",
    " 'how do you find the domain of a rational number',\n",
    " 'how do you find the right zero turn product',\n",
    " 'how do you find the attenuation of a coax cable',\n",
    " 'how do you find the text in an html div',\n",
    " 'how do you find the recycle on 8.1',\n",
    " 'how do you find the graph value for x and y in an equation',\n",
    " 'how do you find the dn in a graph',\n",
    " 'how do you find the length of sides of a right triangle',\n",
    " 'how do you find the monthly payment on a lease',\n",
    " 'how do you find the lawyer to answer your question',\n",
    " 'how do you find the treasure in wind waker',\n",
    " 'how do you find the weighted average maturity of a mbs',\n",
    " 'how do you find the interquartile range in a set of data',\n",
    " 'how do you find the bacterial titer',\n",
    " 'how do you find the square root of 5',\n",
    " 'how do you find the molarity of kb in the bhh + solution',\n",
    " 'how do you find the geometric mean',\n",
    " 'how do you find the maximum i can put into a roth ira',\n",
    " 'how do you find the ph of a solution containing benzoic acid and 0.15 m sodium benzoate',\n",
    " 'how do you find the area of a shaded area on the gmat',\n",
    " 'how do you find the average value of stock',\n",
    " 'how do you find the resistance of a 240v circuit',\n",
    " 'how do you find the sales price',\n",
    " 'how do you find the size for your ring',\n",
    " 'how do you find the median in a set of numbers',\n",
    " 'how do you find the answer to the problem with a fraction',\n",
    " 'how do you find the correct size of a saddle',\n",
    " 'how do you find the number of words in a string in inline',\n",
    " 'how do you find the answer to an equation',\n",
    " 'how do you find the distance between two points',\n",
    " 'how do you find the load forces for a beam',\n",
    " 'how do you find the mass of co2 in an erlenmeyer flask',\n",
    " 'how do you find the parallel resistance',\n",
    " 'how do you find the speed of sound',\n",
    " 'how do you find the volume of a cube',\n",
    " 'how do you find the atomic weight of an element in the periodic table',\n",
    " 'how do you find the daily mean temperature for a region in a weather station',\n",
    " 'how do you find the difference between assertarrayequals () and assertnull () in java',\n",
    " 'how do you find the sale price',\n",
    " 'how do you find the ensign id code',\n",
    " 'how do you find the area of a trapezidy',\n",
    " 'how do you find the interquartile range when given the mean, standard deviation and median',\n",
    " 'how do you find the square root of a 0',\n",
    " 'how do you find the task manager android',\n",
    " 'how do you find the trend of y value',\n",
    " 'how do you find the real interest rate',\n",
    " 'how do you find the nearest food bank',\n",
    " 'how do you find the stock price of old telephone company',\n",
    " 'how do you find the drag coefficient of a car',\n",
    " 'how do you find the distance from two points',\n",
    " 'how do you find the tomb in the sims 3',\n",
    " 'how do you find the wattage of an appliance',\n",
    " 'how do you find the resistance of a combination circuit',\n",
    " 'how do you find the radical index',\n",
    " 'how do you find the model number in vaio laptop',\n",
    " 'how do you find the support force for a beam',\n",
    " 'how do you find the lowest airfare',\n",
    " 'how do you find the ender dragon',\n",
    " 'how do you find the angles inside a circle',\n",
    " 'how do you find the cheapest flight to st augustine florida',\n",
    " 'how do you find the ford valve cover',\n",
    " 'how do you find the measure of the angle of this regular polygon',\n",
    " 'how do you find the meaning of a hashtag',\n",
    " 'how do you find the price of long john silvers',\n",
    " 'how do you find the shiny value of a pokemon egg',\n",
    " 'how do you find the length of the opposite triangle',\n",
    " 'how do you find the carbon atoms content in glucose',\n",
    " 'how do you find the domain of a rational function',\n",
    " 'how do you find the area of a circle',\n",
    " 'how do you find the magnitude of the electric field due to a parallel plate in physics',\n",
    " 'how do you find the local food bank',\n",
    " 'how do you find the answer to 15 divided by 6 2/3',\n",
    " 'how do you find the degrees of a polygon',\n",
    " 'how do you find the closest city to your address',\n",
    " 'how do you find the angle of a right triangle?',\n",
    " 'how do you find the hourly temperature',\n",
    " 'how do you find the force on a current carrying wire',\n",
    " 'how do you find the radius of a circle',\n",
    " 'how do you find the average slope of the graph for a function',\n",
    " 'how do you find the degree of a polynomial',\n",
    " 'how do you find the flow of water through a pipe with pressure on both sides',\n",
    " 'how do you find the average ip',\n",
    " 'how do you find the smallest angle of a triangle?',\n",
    " 'how do you find the altitude of a satellite dish',\n",
    " 'how do you find the part number of a product in hp',\n",
    " 'how do you win the bots in doom',\n",
    " 'how do you win the nascar championship',\n",
    " 'how do you win the game bacterial invasion',\n",
    " 'how do you send the gifts at a wedding',\n",
    " 'how do you fix the breath',\n",
    " 'how do you file to make payments to a chapter 13 bankruptcy trustee',\n",
    " 'how do you file to claim an unclaimed car in us',\n",
    " 'how do you sing the fifty states',\n",
    " 'how do u find the best checking account',\n",
    " 'how to log in to a vibe account',\n",
    " 'how to log in to roadnet',\n",
    " 'how to log in to squarespace from a computer',\n",
    " 'how to log in to email address',\n",
    " 'how to log in to santander bank account on iphone',\n",
    " 'how to log in to mychart',\n",
    " 'how to log in to sqspace',\n",
    " 'how to log in to tiaa insurance website',\n",
    " 'how to log in to facebook from email address',\n",
    " 'how to log in to directly',\n",
    " 'how to log in to vibes',\n",
    " 'how to log in to squarespace account',\n",
    " 'how to log in to your account yahoo',\n",
    " 'how to log in to medscape',\n",
    " 'how to log in to santander bank online',\n",
    " 'how to log in to psb portal',\n",
    " 'how to log in to my bank id number',\n",
    " 'how to log in to igcs',\n",
    " 'how to log in to cisco',\n",
    " 'how to log in to my account on hughesnet',\n",
    " 'how to log in to leaf data wa',\n",
    " 'how to go in the gang hideout',\n",
    " 'how did you win the ivw',\n",
    " 'who is yo in the book how the garcia girls lost their accents',\n",
    " 'who is yo in the book what is the genre of the book',\n",
    " 'who is yo in the novel']\n",
    "\n",
    "\n",
    "#xb = get_embedding(qg_list)\n",
    "\n",
    "\n",
    "#d = xb.shape[1]\n",
    "#nb = xb.shape[0]\n",
    "#nq = 1"
   ]
  },
  {
   "cell_type": "code",
   "execution_count": 5,
   "id": "hungry-swedish",
   "metadata": {},
   "outputs": [],
   "source": [
    "# import numpy as np\n",
    "# d = 64                           # dimension\n",
    "# nb = 100000                      # database size\n",
    "# nq = 10000                       # nb of queries\n",
    "# np.random.seed(1234)             # make reproducible\n",
    "# xb = np.random.random((nb, d)).astype('float32')\n",
    "# xb[:, 0] += np.arange(nb) / 1000.\n",
    "# xq = np.random.random((nq, d)).astype('float32')\n",
    "# xq[:, 0] += np.arange(nq) / 1000.\n",
    "\n",
    "query = \"what is the best way to fix a\"\n",
    "\n",
    "xq = get_embedding(query)"
   ]
  },
  {
   "cell_type": "code",
   "execution_count": 22,
   "id": "forty-sudan",
   "metadata": {},
   "outputs": [],
   "source": [
    "#import faiss              \n",
    "#quantizer = faiss.IndexFlatL2(d)\n",
    "#index = faiss.IndexIVFFlat(quantizer, d, 2)   # build the index\n",
    "#index.nprobe = 2\n",
    "#index.train(xb)\n",
    "index.train(xb[0:2,:])\n",
    "index.add(xb[0:2,:])"
   ]
  },
  {
   "cell_type": "code",
   "execution_count": 23,
   "id": "optimum-fiber",
   "metadata": {},
   "outputs": [
    {
     "ename": "IndexError",
     "evalue": "list index out of range",
     "output_type": "error",
     "traceback": [
      "\u001b[0;31m---------------------------------------------------------------------------\u001b[0m",
      "\u001b[0;31mIndexError\u001b[0m                                Traceback (most recent call last)",
      "\u001b[0;32m/tmp/ipykernel_1206515/4057884179.py\u001b[0m in \u001b[0;36m<module>\u001b[0;34m\u001b[0m\n\u001b[1;32m      4\u001b[0m \u001b[0;31m#print(I[:5])                   # neighbors of the 5 first queries\u001b[0m\u001b[0;34m\u001b[0m\u001b[0;34m\u001b[0m\u001b[0;34m\u001b[0m\u001b[0m\n\u001b[1;32m      5\u001b[0m \u001b[0;31m#print(I[-5:])                  # neighbors of the 5 last queries\u001b[0m\u001b[0;34m\u001b[0m\u001b[0;34m\u001b[0m\u001b[0;34m\u001b[0m\u001b[0m\n\u001b[0;32m----> 6\u001b[0;31m \u001b[0mprint\u001b[0m\u001b[0;34m(\u001b[0m\u001b[0;34m*\u001b[0m\u001b[0;34m[\u001b[0m\u001b[0mqg_list\u001b[0m\u001b[0;34m[\u001b[0m\u001b[0mi\u001b[0m\u001b[0;34m]\u001b[0m \u001b[0;32mfor\u001b[0m \u001b[0mi\u001b[0m \u001b[0;32min\u001b[0m \u001b[0mI\u001b[0m\u001b[0;34m[\u001b[0m\u001b[0;36m0\u001b[0m\u001b[0;34m]\u001b[0m\u001b[0;34m]\u001b[0m\u001b[0;34m,\u001b[0m \u001b[0msep\u001b[0m\u001b[0;34m=\u001b[0m\u001b[0;34m\"\\n\"\u001b[0m\u001b[0;34m)\u001b[0m\u001b[0;34m\u001b[0m\u001b[0;34m\u001b[0m\u001b[0m\n\u001b[0m",
      "\u001b[0;32m/tmp/ipykernel_1206515/4057884179.py\u001b[0m in \u001b[0;36m<listcomp>\u001b[0;34m(.0)\u001b[0m\n\u001b[1;32m      4\u001b[0m \u001b[0;31m#print(I[:5])                   # neighbors of the 5 first queries\u001b[0m\u001b[0;34m\u001b[0m\u001b[0;34m\u001b[0m\u001b[0;34m\u001b[0m\u001b[0m\n\u001b[1;32m      5\u001b[0m \u001b[0;31m#print(I[-5:])                  # neighbors of the 5 last queries\u001b[0m\u001b[0;34m\u001b[0m\u001b[0;34m\u001b[0m\u001b[0;34m\u001b[0m\u001b[0m\n\u001b[0;32m----> 6\u001b[0;31m \u001b[0mprint\u001b[0m\u001b[0;34m(\u001b[0m\u001b[0;34m*\u001b[0m\u001b[0;34m[\u001b[0m\u001b[0mqg_list\u001b[0m\u001b[0;34m[\u001b[0m\u001b[0mi\u001b[0m\u001b[0;34m]\u001b[0m \u001b[0;32mfor\u001b[0m \u001b[0mi\u001b[0m \u001b[0;32min\u001b[0m \u001b[0mI\u001b[0m\u001b[0;34m[\u001b[0m\u001b[0;36m0\u001b[0m\u001b[0;34m]\u001b[0m\u001b[0;34m]\u001b[0m\u001b[0;34m,\u001b[0m \u001b[0msep\u001b[0m\u001b[0;34m=\u001b[0m\u001b[0;34m\"\\n\"\u001b[0m\u001b[0;34m)\u001b[0m\u001b[0;34m\u001b[0m\u001b[0;34m\u001b[0m\u001b[0m\n\u001b[0m",
      "\u001b[0;31mIndexError\u001b[0m: list index out of range"
     ]
    }
   ],
   "source": [
    "k = 4                          # we want to see 4 nearest neighbors\n",
    "\n",
    "D, I = index.search(xq, k)     # actual search\n",
    "#print(I[:5])                   # neighbors of the 5 first queries\n",
    "#print(I[-5:])                  # neighbors of the 5 last queries\n",
    "print(*[qg_list[i] for i in I[0]], sep=\"\\n\")"
   ]
  },
  {
   "cell_type": "code",
   "execution_count": 25,
   "id": "labeled-paraguay",
   "metadata": {},
   "outputs": [
    {
     "data": {
      "text/plain": [
       "array([[ 1, 13,  2,  3]])"
      ]
     },
     "execution_count": 25,
     "metadata": {},
     "output_type": "execute_result"
    }
   ],
   "source": [
    "I"
   ]
  },
  {
   "cell_type": "markdown",
   "id": "champion-publication",
   "metadata": {},
   "source": [
    "# Our Data"
   ]
  },
  {
   "cell_type": "code",
   "execution_count": 2,
   "id": "illegal-length",
   "metadata": {},
   "outputs": [],
   "source": [
    "import faiss\n",
    "import numpy as np\n",
    "from tqdm import tqdm\n",
    "import pickle\n",
    "\n",
    "D = 512\n",
    "\n",
    "index = faiss.IndexFlatL2(D)\n"
   ]
  },
  {
   "cell_type": "code",
   "execution_count": 63,
   "id": "refined-niger",
   "metadata": {},
   "outputs": [
    {
     "name": "stderr",
     "output_type": "stream",
     "text": [
      "100%|███████████████████████| 1563052/1563052 [4:23:47<00:00, 98.76it/s]\n"
     ]
    }
   ],
   "source": [
    "ids_question_map = {}\n",
    "nline = 0\n",
    "\n",
    "with open(\"../data/qg.txt\", \"r\") as f:\n",
    "    with tqdm(total=1563052) as progress_bar:\n",
    "        while line := f.readline():\n",
    "            index.add(get_embedding(line.strip('\\n')))\n",
    "            ids_question_map[nline] = line.strip('\\n')\n",
    "            nline += 1\n",
    "            progress_bar.update(1)\n",
    "\n",
    "faiss.write_index(index, \"../index/index.bin\")\n",
    "pickle.dump(ids_question_map, open(\"../index/ids_question_map.pkl\", \"wb\"))"
   ]
  },
  {
   "cell_type": "code",
   "execution_count": 48,
   "id": "unknown-western",
   "metadata": {},
   "outputs": [],
   "source": [
    "# Search\n",
    "topk = 4\n",
    "query = \"how do you find the\"\n",
    "#index = faiss.read_index(\"../index/index.bin\")\n",
    "\n",
    "#ids_question_map = pickle.load(open(\"../index/ids_question_map.pkl\", \"rb\"))\n",
    "#dists, ids = index.search(x=get_embedding(query), k=100)  # Use the top three vectors for querying\n",
    "#print(type(dists), dists.dtype, dists.shape)  # <class 'numpy.ndarray'> float32 (3, 4)\n",
    "#print(type(ids), ids.dtype, ids.shape)  # <class 'numpy.ndarray'> int64 (3, 4)\n",
    "\n",
    "# Show params\n",
    "#print(\"N:\", index.ntotal)\n",
    "#print(\"D:\", index.d)\n",
    "\n",
    "\n",
    "dists, ids = index.search(x=get_embedding(query), k=1000)\n",
    "accepted_queries = [(ids_question_map[q], d) for q, d in zip(ids[0], dists[0]) if ids_question_map[q] in qg_list]\n",
    "sorted_accepted_queries = sorted(accepted_queries, key=lambda kv:kv[1], reverse=False)"
   ]
  },
  {
   "cell_type": "code",
   "execution_count": 36,
   "id": "boxed-momentum",
   "metadata": {},
   "outputs": [
    {
     "data": {
      "text/plain": [
       "'when do lice nits come out in a baby'"
      ]
     },
     "execution_count": 36,
     "metadata": {},
     "output_type": "execute_result"
    }
   ],
   "source": [
    "ids_question_map[106]"
   ]
  },
  {
   "cell_type": "code",
   "execution_count": 49,
   "id": "swedish-inside",
   "metadata": {},
   "outputs": [
    {
     "data": {
      "text/plain": [
       "[]"
      ]
     },
     "execution_count": 49,
     "metadata": {},
     "output_type": "execute_result"
    }
   ],
   "source": [
    "sorted_accepted_queries"
   ]
  },
  {
   "cell_type": "code",
   "execution_count": 44,
   "id": "magnetic-sunrise",
   "metadata": {},
   "outputs": [
    {
     "data": {
      "text/plain": [
       "False"
      ]
     },
     "execution_count": 44,
     "metadata": {},
     "output_type": "execute_result"
    }
   ],
   "source": [
    "\"how do you find the\" in [ids_question_map[q][:len(\"how do you find the\")] for q in ids[0]]"
   ]
  },
  {
   "cell_type": "code",
   "execution_count": 81,
   "id": "transparent-subscription",
   "metadata": {},
   "outputs": [
    {
     "ename": "AttributeError",
     "evalue": "'Float32Vector' object has no attribute 'shape'",
     "output_type": "error",
     "traceback": [
      "\u001b[0;31m---------------------------------------------------------------------------\u001b[0m",
      "\u001b[0;31mAttributeError\u001b[0m                            Traceback (most recent call last)",
      "\u001b[0;32m/tmp/ipykernel_24527/3762451972.py\u001b[0m in \u001b[0;36m<module>\u001b[0;34m\u001b[0m\n\u001b[1;32m      1\u001b[0m \u001b[0mindex3\u001b[0m \u001b[0;34m=\u001b[0m \u001b[0mfaiss\u001b[0m\u001b[0;34m.\u001b[0m\u001b[0mIndexFlatL2\u001b[0m\u001b[0;34m(\u001b[0m\u001b[0;36m512\u001b[0m\u001b[0;34m)\u001b[0m\u001b[0;34m\u001b[0m\u001b[0;34m\u001b[0m\u001b[0m\n\u001b[0;32m----> 2\u001b[0;31m \u001b[0mindex3\u001b[0m\u001b[0;34m.\u001b[0m\u001b[0madd\u001b[0m\u001b[0;34m(\u001b[0m\u001b[0mindex\u001b[0m\u001b[0;34m.\u001b[0m\u001b[0mxb\u001b[0m\u001b[0;34m)\u001b[0m\u001b[0;34m\u001b[0m\u001b[0;34m\u001b[0m\u001b[0m\n\u001b[0m",
      "\u001b[0;32m~/miniconda3/envs/seer/lib/python3.8/site-packages/faiss/__init__.py\u001b[0m in \u001b[0;36mreplacement_add\u001b[0;34m(self, x)\u001b[0m\n\u001b[1;32m    190\u001b[0m         \"\"\"\n\u001b[1;32m    191\u001b[0m \u001b[0;34m\u001b[0m\u001b[0m\n\u001b[0;32m--> 192\u001b[0;31m         \u001b[0mn\u001b[0m\u001b[0;34m,\u001b[0m \u001b[0md\u001b[0m \u001b[0;34m=\u001b[0m \u001b[0mx\u001b[0m\u001b[0;34m.\u001b[0m\u001b[0mshape\u001b[0m\u001b[0;34m\u001b[0m\u001b[0;34m\u001b[0m\u001b[0m\n\u001b[0m\u001b[1;32m    193\u001b[0m         \u001b[0;32massert\u001b[0m \u001b[0md\u001b[0m \u001b[0;34m==\u001b[0m \u001b[0mself\u001b[0m\u001b[0;34m.\u001b[0m\u001b[0md\u001b[0m\u001b[0;34m\u001b[0m\u001b[0;34m\u001b[0m\u001b[0m\n\u001b[1;32m    194\u001b[0m         \u001b[0mself\u001b[0m\u001b[0;34m.\u001b[0m\u001b[0madd_c\u001b[0m\u001b[0;34m(\u001b[0m\u001b[0mn\u001b[0m\u001b[0;34m,\u001b[0m \u001b[0mswig_ptr\u001b[0m\u001b[0;34m(\u001b[0m\u001b[0mx\u001b[0m\u001b[0;34m)\u001b[0m\u001b[0;34m)\u001b[0m\u001b[0;34m\u001b[0m\u001b[0;34m\u001b[0m\u001b[0m\n",
      "\u001b[0;31mAttributeError\u001b[0m: 'Float32Vector' object has no attribute 'shape'"
     ]
    }
   ],
   "source": [
    "index3 = faiss.IndexFlatL2(512)\n",
    "index3.add(index.xb)"
   ]
  },
  {
   "cell_type": "code",
   "execution_count": null,
   "id": "internal-format",
   "metadata": {},
   "outputs": [],
   "source": [
    "chunk = faiss.serialize_index(index)\n",
    "np.save(\"index.npy\", chunk)\n",
    "index3 = faiss.deserialize_index(np.load(\"index.npy\"))   # identical to index\n"
   ]
  },
  {
   "cell_type": "code",
   "execution_count": 70,
   "id": "reported-individual",
   "metadata": {},
   "outputs": [],
   "source": [
    "labels = np.array([[106, 7, 9]], dtype='int64')\n",
    "distances = np.empty((1, 3), dtype='float32')\n",
    "out = index.compute_distance_subset(1, faiss.swig_ptr(get_embedding(query)), 3, faiss.swig_ptr(distances), faiss.swig_ptr(labels))"
   ]
  },
  {
   "cell_type": "code",
   "execution_count": 71,
   "id": "olympic-instrumentation",
   "metadata": {},
   "outputs": [
    {
     "data": {
      "text/plain": [
       "array([[inf, inf, inf]], dtype=float32)"
      ]
     },
     "execution_count": 71,
     "metadata": {},
     "output_type": "execute_result"
    }
   ],
   "source": [
    "distances"
   ]
  },
  {
   "cell_type": "code",
   "execution_count": 83,
   "id": "collective-windows",
   "metadata": {},
   "outputs": [],
   "source": [
    "xb_np = faiss.vector_to_array(index.xb)"
   ]
  },
  {
   "cell_type": "code",
   "execution_count": 93,
   "id": "south-award",
   "metadata": {},
   "outputs": [],
   "source": [
    "xb_np = xb_np.reshape(-1, 512)"
   ]
  },
  {
   "cell_type": "markdown",
   "id": "corresponding-george",
   "metadata": {},
   "source": [
    "# custom search"
   ]
  },
  {
   "cell_type": "code",
   "execution_count": 102,
   "id": "governmental-interference",
   "metadata": {},
   "outputs": [],
   "source": [
    "question_ids_map = dict([(j.lower(),i) for i,j in ids_question_map.items()])\n",
    "suggested_questions_vector = np.asarray([xb_np[question_ids_map[i], :] for i in qg_list])"
   ]
  },
  {
   "cell_type": "code",
   "execution_count": 103,
   "id": "divided-tuition",
   "metadata": {},
   "outputs": [
    {
     "data": {
      "text/plain": [
       "(169, 512)"
      ]
     },
     "execution_count": 103,
     "metadata": {},
     "output_type": "execute_result"
    }
   ],
   "source": [
    "suggested_questions_vector.shape"
   ]
  },
  {
   "cell_type": "code",
   "execution_count": 122,
   "id": "broad-isolation",
   "metadata": {},
   "outputs": [],
   "source": [
    "from sklearn.metrics.pairwise import cosine_similarity\n",
    "import Levenshtein as ln\n",
    "query = \"how to find waldo in\"\n",
    "similar_ids = np.argsort(cosine_similarity(get_embedding(query), suggested_questions_vector))[0][::-1]\n",
    "similar_qs = [ids_question_map[i] for i in similar_ids]"
   ]
  },
  {
   "cell_type": "code",
   "execution_count": 123,
   "id": "biblical-cotton",
   "metadata": {},
   "outputs": [
    {
     "data": {
      "text/plain": [
       "'how to find waldo in'"
      ]
     },
     "execution_count": 123,
     "metadata": {},
     "output_type": "execute_result"
    }
   ],
   "source": [
    "query"
   ]
  },
  {
   "cell_type": "code",
   "execution_count": null,
   "id": "furnished-studio",
   "metadata": {},
   "outputs": [],
   "source": []
  },
  {
   "cell_type": "markdown",
   "id": "amateur-upset",
   "metadata": {},
   "source": [
    "# V2kmeans = faiss.Kmeans(d=D, k=K, niter=20, verbose=True, gpu=True)"
   ]
  },
  {
   "cell_type": "code",
   "execution_count": 9,
   "id": "adjacent-yahoo",
   "metadata": {},
   "outputs": [],
   "source": [
    "import faiss\n",
    "import numpy as np\n",
    "import pickle\n",
    "import csv\n",
    "from tqdm import tqdm\n",
    "\n",
    "D = 512\n",
    "K = 10\n",
    "#kmeans = faiss.Kmeans(d=D, k=round(4*(100**(1/2))), niter=20, verbose=True, gpu=True)\n",
    "kmeans = faiss.Kmeans(d=D, k=round(16*(50000**(1/2))), niter=20, verbose=True, gpu=True)\n",
    "#X = np.zeros(shape=(1, 512))"
   ]
  },
  {
   "cell_type": "code",
   "execution_count": 19,
   "id": "limited-carpet",
   "metadata": {},
   "outputs": [
    {
     "name": "stderr",
     "output_type": "stream",
     "text": [
      "  2%|▌                       | 50000/2371783 [31:59<24:45:52, 26.04it/s]\n"
     ]
    }
   ],
   "source": [
    "limit = 50000\n",
    "\n",
    "question_ids_map = pickle.load(open(\"../index/question_ids_map.pkl\", \"rb\"))\n",
    "with open(\"../data/queries.train.tsv\", \"r\") as f:\n",
    "    tsv_reader = csv.reader(f, delimiter=\"\\t\")\n",
    "    nlines = 0 \n",
    "    for row in tqdm(tsv_reader, total=2371783):\n",
    "        nlines += 1\n",
    "        line = row[-1].lower()\n",
    "        if line!='':\n",
    "            X = np.vstack((X, get_embedding(line)))\n",
    "        if not limit:\n",
    "            break\n",
    "        else:\n",
    "            limit-=1\n",
    "\n",
    "X = X[1:, :]"
   ]
  },
  {
   "cell_type": "code",
   "execution_count": 10,
   "id": "aggregate-selling",
   "metadata": {},
   "outputs": [],
   "source": [
    "#np.save(open(\"../index/v2/user_queries.npy\", \"wb\"), X)\n",
    "X = np.load(open(\"../index/v2/user_queries.npy\", \"rb\"))"
   ]
  },
  {
   "cell_type": "code",
   "execution_count": 5,
   "id": "basic-stand",
   "metadata": {},
   "outputs": [
    {
     "data": {
      "text/plain": [
       "(1, 512)"
      ]
     },
     "execution_count": 5,
     "metadata": {},
     "output_type": "execute_result"
    }
   ],
   "source": [
    "X_mean = np.mean(X, axis=0).reshape(1, -1)\n",
    "X_mean.shape"
   ]
  },
  {
   "cell_type": "code",
   "execution_count": 11,
   "id": "military-bridge",
   "metadata": {},
   "outputs": [
    {
     "name": "stderr",
     "output_type": "stream",
     "text": [
      "WARNING clustering 50001 points to 3578 centroids: please provide at least 139542 training points\n"
     ]
    },
    {
     "name": "stdout",
     "output_type": "stream",
     "text": [
      "Clustering 50001 points in 512D to 3578 clusters, redo 1 times, 20 iterations\n",
      "  Preprocessing in 0.01 s\n",
      "(3578, 512) 19 (1.00 s, search 0.59 s): objective=24707.2 imbalance=1.461 nsplit=0       \n"
     ]
    }
   ],
   "source": [
    "kmeans.train(X.astype(np.float32))\n",
    "print(kmeans.centroids.shape)"
   ]
  },
  {
   "cell_type": "code",
   "execution_count": 13,
   "id": "stuffed-projector",
   "metadata": {},
   "outputs": [
    {
     "data": {
      "text/plain": [
       "(3578, 512)"
      ]
     },
     "execution_count": 13,
     "metadata": {},
     "output_type": "execute_result"
    }
   ],
   "source": [
    "(kmeans.centroids + get_embedding(\"do parents\")).shape"
   ]
  },
  {
   "cell_type": "code",
   "execution_count": 14,
   "id": "female-andorra",
   "metadata": {},
   "outputs": [
    {
     "name": "stdout",
     "output_type": "stream",
     "text": [
      "do parents go to their kids college orientation\n",
      "how parents can help students\n",
      "do parents count as immediate family\n",
      "do grandparents help grandchildren\n",
      "is grandparents immediate family\n",
      "do parents of groom give them a gift\n",
      "do grandparents help each other\n",
      "do parents influence baby eye color\n",
      "do parents affect children's self esteem\n",
      "do parents know what to do when their kid has a fever\n",
      "how grandparents help\n",
      "do grandparents really care what their grandchildren do\n",
      "how parents can extend child support with courts\n",
      "do grandparents love their grandchildren for the love they give them\n",
      "do parents need to have a child for family leave\n",
      "do grandparents really love to read to grandchildren\n",
      "does grandparents help each other emotionally\n",
      "does grandparents ever cry\n",
      "how parents influence their children to start smoking\n",
      "how parents treat dmdd\n",
      "how parents determine their own development\n",
      "how parents can help children with down payment for a house\n",
      "how parents set their kids up for success\n",
      "how parents should be held responsible\n",
      "how grandparents help one another\n",
      "how grandparents can help grandchildren\n",
      "how grandparents care for their grandchildren\n",
      "do godparents have legal rights to godchildren?\n",
      "how parents react to teen pregnancy\n",
      "how parents balance work and family when both are working\n",
      "do godparents have to be christened\n",
      "how grandparents benefit from the adoption act\n",
      "how parents should not be accountable for their children behavior\n",
      "how parents can communicate with sixteen year old son\n",
      "how grandparents care for grandchildren in different ways\n",
      "how grandparents are benefiting from the foster care and adoption act\n",
      "is grandparents dead in beach city tx\n",
      "how parents talk to teenagers on sexual health issues\n"
     ]
    }
   ],
   "source": [
    "from sklearn.metrics.pairwise import cosine_similarity\n",
    "\n",
    "example_suggestions = ['how parents talk to teenagers on sexual health issues',\n",
    " 'how parents influence their children to start smoking',\n",
    " 'how parents determine their own development',\n",
    " 'how parents should be held responsible',\n",
    " 'how parents should not be accountable for their children behavior',\n",
    " 'how parents can help children with down payment for a house',\n",
    " 'how parents set their kids up for success',\n",
    " 'how parents can communicate with sixteen year old son',\n",
    " 'how parents balance work and family when both are working',\n",
    " 'how parents can extend child support with courts',\n",
    " 'how parents react to teen pregnancy',\n",
    " 'how parents can help students',\n",
    " 'how parents treat dmdd',\n",
    " 'how grandparents help',\n",
    " 'how grandparents can help grandchildren',\n",
    " 'how grandparents help one another',\n",
    " 'how grandparents care for grandchildren in different ways',\n",
    " 'how grandparents benefit from the adoption act',\n",
    " 'how grandparents are benefiting from the foster care and adoption act',\n",
    " 'how grandparents care for their grandchildren',\n",
    " 'do grandparents really care what their grandchildren do',\n",
    " 'do grandparents help each other',\n",
    " 'do grandparents really love to read to grandchildren',\n",
    " 'do grandparents help grandchildren',\n",
    " 'do grandparents love their grandchildren for the love they give them',\n",
    " 'do parents influence baby eye color',\n",
    " 'do parents know what to do when their kid has a fever',\n",
    " 'do parents need to have a child for family leave',\n",
    " 'do parents go to their kids college orientation',\n",
    " \"do parents affect children's self esteem\",\n",
    " 'do parents of groom give them a gift',\n",
    " 'do parents count as immediate family',\n",
    " 'do godparents have legal rights to godchildren?',\n",
    " 'do godparents have to be christened',\n",
    " 'is grandparents dead in beach city tx',\n",
    " 'is grandparents immediate family',\n",
    " 'does grandparents help each other emotionally',\n",
    " 'does grandparents ever cry']\n",
    "test_x = get_embedding(example_suggestions)\n",
    "\n",
    "#similar_ids = np.argsort(np.max(cosine_similarity(test_x, kmeans.centroids), axis=-1))[::-1]\n",
    "#similar_ids = np.argsort(np.max(cosine_similarity(test_x, get_embedding(\"do parents\")), axis=-1))[::-1]\n",
    "similar_ids = np.argsort(np.max(cosine_similarity(test_x, kmeans.centroids + get_embedding(\"do parents\")), axis=-1))[::-1]\n",
    "for tag in similar_ids:\n",
    "    print(example_suggestions[tag])\n",
    "#similar_qs = [ids_question_map[i] for i in similar_ids]"
   ]
  },
  {
   "cell_type": "code",
   "execution_count": null,
   "id": "confident-extraction",
   "metadata": {},
   "outputs": [],
   "source": []
  },
  {
   "cell_type": "code",
   "execution_count": null,
   "id": "expired-visitor",
   "metadata": {},
   "outputs": [],
   "source": []
  }
 ],
 "metadata": {
  "kernelspec": {
   "display_name": "seer",
   "language": "python",
   "name": "seer"
  },
  "language_info": {
   "codemirror_mode": {
    "name": "ipython",
    "version": 3
   },
   "file_extension": ".py",
   "mimetype": "text/x-python",
   "name": "python",
   "nbconvert_exporter": "python",
   "pygments_lexer": "ipython3",
   "version": "3.8.10"
  }
 },
 "nbformat": 4,
 "nbformat_minor": 5
}
