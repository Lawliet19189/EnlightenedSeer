{
 "cells": [
  {
   "cell_type": "code",
   "execution_count": 1,
   "id": "forward-party",
   "metadata": {
    "tags": []
   },
   "outputs": [
    {
     "data": {
      "text/plain": [
       "3213835"
      ]
     },
     "execution_count": 1,
     "metadata": {},
     "output_type": "execute_result"
    }
   ],
   "source": [
    "import csv\n",
    "import sys\n",
    "csv.field_size_limit(sys.maxsize)\n",
    "\n",
    "lines = 0\n",
    "with open(\"../data/mindocs.tsv\", \"r\") as f:\n",
    "    tsv_reader = csv.reader(f, delimiter=\"\\t\")\n",
    "    for row in tsv_reader:\n",
    "        #print(row, \"\\n\\n\")\n",
    "        lines += 1\n",
    "lines"
   ]
  },
  {
   "cell_type": "code",
   "execution_count": 30,
   "id": "hundred-python",
   "metadata": {},
   "outputs": [],
   "source": [
    "import csv\n",
    "import sys\n",
    "csv.field_size_limit(sys.maxsize)\n",
    "\n",
    "idx = 0\n",
    "with open(\"../data/fulldocs.tsv\", \"rt\") as f_reader:\n",
    "    with open(\"../data/mindocs.tsv\", \"wt\") as f_writer:\n",
    "        tsv_reader = csv.reader(f_reader, delimiter=\"\\t\")\n",
    "        tsv_writer = csv.writer(f_writer, delimiter=\"\\t\")\n",
    "        for row in tsv_reader:\n",
    "            tsv_writer.writerow([idx, row[-1]])\n",
    "            idx += 1"
   ]
  },
  {
   "cell_type": "code",
   "execution_count": 2,
   "id": "cutting-method",
   "metadata": {
    "tags": []
   },
   "outputs": [],
   "source": [
    "import torch\n",
    "from transformers import T5Tokenizer, T5ForConditionalGeneration\n",
    "\n",
    "device = torch.device('cuda' if torch.cuda.is_available() else 'cpu')\n",
    "\n",
    "tokenizer = T5Tokenizer.from_pretrained('castorini/doc2query-t5-large-msmarco')\n",
    "model = T5ForConditionalGeneration.from_pretrained('castorini/doc2query-t5-large-msmarco')\n",
    "model = model.to(device)\n"
   ]
  },
  {
   "cell_type": "code",
   "execution_count": 25,
   "id": "announced-begin",
   "metadata": {},
   "outputs": [
    {
     "name": "stdout",
     "output_type": "stream",
     "text": [
      "sample 1: what is the radii of the star rigel\n",
      "sample 2: if a heat flux is proportional to the fourth power of the temperature, which law governs the radiating energy\n",
      "sample 3: how to find the diameter of a star\n",
      "sample 4: what is the energy flux of a bright, glowing star\n",
      "sample 5: why is the radiation of the bright star in the constellation orion equal to the radius\n",
      "sample 6: what is the total energy flux of a star?\n",
      "sample 7: the hot glowing surfaces of stars emit energy in the form of electromagnetic radiation. find the radius of the star riggel\n",
      "sample 8: how to find a stars radius\n",
      "sample 9: what is the r value of the radiant radius of a star?\n",
      "sample 10: what is stroban's law\n",
      "sample 11: what is the temperature of a spherical star\n",
      "sample 12: what form of radiation does the star rigel emit\n",
      "sample 13: what is the radius of a star\n",
      "sample 14: which statement best describes the theory that heat emits electromagnetic radiation?\n",
      "sample 15: what is the total energy flux of a spherical star\n",
      "sample 16: what is the radius of a star whose heat is in k\n",
      "sample 17: which statement represents steffan boltzmann law\n",
      "sample 18: why is energy flux proportional to the temperature\n",
      "sample 19: what radiation waves are produced by hot star surfaces\n",
      "sample 20: what law states total radiative flux equals\n",
      "sample 21: what is the radius of a hot glowing surface of a star\n",
      "sample 22: which astronomer has determined that a spherical star radiates energy at a rate of 2.7 x 1032 W/m2K at a surface temperature of 11,000 k\n",
      "sample 23: how to find radius of star rigel\n",
      "sample 24: what is the surface temperature of a star\n",
      "sample 25: what is the total energy flux of a bright blue star\n",
      "sample 26: how to find the radius of the star\n",
      "sample 27: how to find the radius of a star\n",
      "sample 28: what is the energy of a star\n",
      "sample 29: what is the radius of a radial star\n",
      "sample 30: which statement is true regarding the heat flux on the hot glowing surfaces of stars?\n",
      "sample 31: what is a spherical rocky star\n",
      "sample 32: what is stefan boltzmann law\n",
      "sample 33: what is temperature of a ringel star\n",
      "sample 34: what is the radius of rigel\n",
      "sample 35: what is the energy level of a star that emits radiation in the form of energy?\n",
      "sample 36: the total energy flux in a star is proportional to the emissivity __________. find the radius of the bright blue star in the constellation orion\n",
      "sample 37: what type of energy is absorbed by a spherical star\n",
      "sample 38: what law states that the total energy flux at each surface is proportional to the forth power of temperature?\n",
      "sample 39: how to find the radius\n",
      "sample 40: how do you find the radii of a spherical star\n",
      "sample 41: what does stefan boltzmann's law say about the heat and energy flux of a star\n",
      "sample 42: what is the stefan boltzmann law\n",
      "sample 43: what reflects energy from the radiant surface of a star\n",
      "sample 44: what is the total energy flux of a spherical star\n",
      "sample 45: how to find the radius of a star in terms of its luminosity\n",
      "sample 46: what is a radiant spherical star\n",
      "sample 47: how to find radii of a hot glowing star\n",
      "sample 48: what is stefan boltzmann law\n",
      "sample 49: strojan boltzmann radiation rate\n",
      "sample 50: what is the temperature of the star rigell\n"
     ]
    }
   ],
   "source": [
    "doc_text = row[-1]\n",
    "\n",
    "input_ids = tokenizer.encode(doc_text, truncation=True, max_length=512, padding=\"longest\", return_tensors='pt').to(device)\n",
    "outputs = model.generate(\n",
    "    input_ids=input_ids,\n",
    "    max_length=64,\n",
    "    do_sample=True,\n",
    "    top_k=10,\n",
    "    num_return_sequences=50)\n",
    "\n",
    "for i in range(50):\n",
    "    print(f'sample {i + 1}: {tokenizer.decode(outputs[i], skip_special_tokens=True)}')\n"
   ]
  },
  {
   "cell_type": "code",
   "execution_count": 19,
   "id": "lonely-forestry",
   "metadata": {},
   "outputs": [
    {
     "name": "stdout",
     "output_type": "stream",
     "text": [
      "sample 1: what is the energy flux of a star\n",
      "sample 2: how does stefan boltzmann's law determine the radius of a star\n",
      "sample 3: what is stenberg boltzmann law?\n",
      "sample 4: what is steffan boltzmann law? how to find the radius?\n",
      "sample 5: which law states that the energy flux of a spherical star is proportional to the forth power of the temperature?\n",
      "sample 6: which law states that the energy flux at a spherical surface is proportional to the fourth power of the temperature?\n",
      "sample 7: what is the total energy flux of the star rigel\n",
      "sample 8: what is the heat flux of the rigel star\n",
      "sample 9: what is stefan boltsman law\n",
      "sample 10: what does the strottmann law state about the energy flux of a surface?\n"
     ]
    }
   ],
   "source": [
    "doc_text = row[-1]\n",
    "\n",
    "input_ids = tokenizer.encode(doc_text, truncation=True, max_length=512, padding=\"longest\", return_tensors='pt').to(device)\n",
    "outputs = model.generate(\n",
    "    input_ids=input_ids,\n",
    "    max_length=64,\n",
    "    do_sample=True,\n",
    "    top_k=10,\n",
    "    num_return_sequences=10)\n",
    "\n",
    "for i in range(10):\n",
    "    print(f'sample {i + 1}: {tokenizer.decode(outputs[i], skip_special_tokens=True)}')\n"
   ]
  },
  {
   "cell_type": "code",
   "execution_count": 8,
   "id": "leading-responsibility",
   "metadata": {},
   "outputs": [],
   "source": [
    "# outputs = model.generate(\n",
    "#     input_ids=input_ids,\n",
    "#     max_length=64,\n",
    "#     do_sample=True,\n",
    "#     top_p=0.70,\n",
    "#     top_k=20,\n",
    "#     num_return_sequences=5)\n",
    "\n",
    "# for i in range(5):\n",
    "#     print(f'sample {i + 1}: {tokenizer.decode(outputs[i], skip_special_tokens=True)}')\n"
   ]
  },
  {
   "cell_type": "code",
   "execution_count": null,
   "id": "affecting-interest",
   "metadata": {},
   "outputs": [],
   "source": [
    "# doc_text = row[-1]\n",
    "\n",
    "# input_ids = tokenizer.encode(doc_text, return_tensors='pt').to(device)\n",
    "# outputs = model.generate(\n",
    "#     input_ids=input_ids,\n",
    "#     max_length=50,\n",
    "#     do_sample=True,\n",
    "#     top_k=0,\n",
    "#     top_p=0.90,\n",
    "#     num_beams=2,\n",
    "#     #temperature=0.7,\n",
    "#     num_return_sequences=2,\n",
    "#     repetition_penalty=2.5, \n",
    "#     length_penalty=1.0, \n",
    "#     early_stopping=True)\n",
    "\n",
    "# for i in range(3):\n",
    "#     print(f'sample {i + 1}: {tokenizer.decode(outputs[i], skip_special_tokens=True)}')\n"
   ]
  },
  {
   "cell_type": "code",
   "execution_count": 14,
   "id": "third-nigeria",
   "metadata": {},
   "outputs": [
    {
     "data": {
      "text/plain": [
       "808731"
      ]
     },
     "execution_count": 14,
     "metadata": {},
     "output_type": "execute_result"
    }
   ],
   "source": [
    "import csv\n",
    "import sys\n",
    "csv.field_size_limit(sys.maxsize)\n",
    "\n",
    "lines = 0\n",
    "with open(\"../data/queries.train.tsv\", \"r\") as f:\n",
    "    with open(\"../data/train.txt\", \"w\") as f_write:\n",
    "        tsv_reader = csv.reader(f, delimiter=\"\\t\")\n",
    "        for row in tsv_reader:\n",
    "            f_write.write(row[-1].strip('.')+'.')\n",
    "            lines += 1\n",
    "lines"
   ]
  },
  {
   "cell_type": "code",
   "execution_count": 4,
   "id": "bearing-norwegian",
   "metadata": {},
   "outputs": [],
   "source": [
    "from transformers import GPT2LMHeadModel, GPT2Tokenizer\n",
    "\n",
    "\n",
    "tokenizer = GPT2Tokenizer.from_pretrained(\"../../transformers/examples/pytorch/language-modeling/models/checkpoint-500/\")\n",
    "\n",
    "# add the EOS token as PAD token to avoid warnings\n",
    "model = GPT2LMHeadModel.from_pretrained(\"../../transformers/examples/pytorch/language-modeling/models/checkpoint-500/\", pad_token_id=tokenizer.eos_token_id)"
   ]
  },
  {
   "cell_type": "code",
   "execution_count": 7,
   "id": "latter-connecticut",
   "metadata": {},
   "outputs": [
    {
     "name": "stdout",
     "output_type": "stream",
     "text": [
      "Output:\n",
      "----------------------------------------------------------------------------------------------------\n",
      "do parents of a child in a nursing home in the uswhat is the name of the name of the name of the name of the name of the name of the name of the name of the name of the name of the name of the name of\n"
     ]
    }
   ],
   "source": [
    "input_ids = tokenizer.encode('do parents', return_tensors='pt')\n",
    "\n",
    "# generate text until the output length (which includes the context length) reaches 50\n",
    "greedy_output = model.generate(input_ids, max_length=50)\n",
    "\n",
    "print(\"Output:\\n\" + 100 * '-')\n",
    "print(tokenizer.decode(greedy_output[0], skip_special_tokens=True))"
   ]
  },
  {
   "cell_type": "code",
   "execution_count": 8,
   "id": "pediatric-workshop",
   "metadata": {},
   "outputs": [
    {
     "name": "stdout",
     "output_type": "stream",
     "text": [
      "Output:\n",
      "----------------------------------------------------------------------------------------------------\n",
      "0: do parents have a constitutional right to vote to ban marijuana for recreational use in a state that notifies parents to vote for the president during the general election.)]how many children are there in the oregon state university population)how many children are there\n",
      "1: do parentswhy do you get shothow many hours does it take to get a car back togetherwhy do you get married to a man you know can cause problems in the bodyhow many hours does it take to get a car back togetherhow many hours\n",
      "2: do parents should be able to keep the bank account number from deleting the bank account number of usagostasis causes symptoms of anxiety disorder and anxietyhow many different classes of food per day does an animal eat in cold weatherhow many different classes of food\n"
     ]
    }
   ],
   "source": [
    "sample_outputs = model.generate(\n",
    "    input_ids,\n",
    "    do_sample=True, \n",
    "    max_length=50, \n",
    "    top_k=50, \n",
    "    top_p=0.95, \n",
    "    num_return_sequences=3\n",
    ")\n",
    "\n",
    "print(\"Output:\\n\" + 100 * '-')\n",
    "for i, sample_output in enumerate(sample_outputs):\n",
    "    print(\"{}: {}\".format(i, tokenizer.decode(sample_output, skip_special_tokens=True)))"
   ]
  },
  {
   "cell_type": "code",
   "execution_count": null,
   "id": "advanced-accident",
   "metadata": {},
   "outputs": [],
   "source": []
  }
 ],
 "metadata": {
  "kernelspec": {
   "display_name": "qg",
   "language": "python",
   "name": "qg"
  },
  "language_info": {
   "codemirror_mode": {
    "name": "ipython",
    "version": 3
   },
   "file_extension": ".py",
   "mimetype": "text/x-python",
   "name": "python",
   "nbconvert_exporter": "python",
   "pygments_lexer": "ipython3",
   "version": "3.8.8"
  }
 },
 "nbformat": 4,
 "nbformat_minor": 5
}
